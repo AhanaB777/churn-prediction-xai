{
 "cells": [
  {
   "cell_type": "markdown",
   "id": "073883ce-548f-470a-a1da-082ca7f618e3",
   "metadata": {},
   "source": [
    "# Customer Churn Prediction with Explainable AI "
   ]
  },
  {
   "cell_type": "markdown",
   "id": "7434a9a2-770d-4967-84c0-eea2d0c8c883",
   "metadata": {},
   "source": [
    "### Tech stack used: \n",
    "- Python libraries (numpy,pandas,matplotlib,seaborn)\n",
    "  "
   ]
  },
  {
   "cell_type": "code",
   "execution_count": null,
   "id": "7c0214ed-24da-4112-8db2-42e5f1ac96da",
   "metadata": {},
   "outputs": [],
   "source": []
  }
 ],
 "metadata": {
  "kernelspec": {
   "display_name": "Python 3 (ipykernel)",
   "language": "python",
   "name": "python3"
  },
  "language_info": {
   "codemirror_mode": {
    "name": "ipython",
    "version": 3
   },
   "file_extension": ".py",
   "mimetype": "text/x-python",
   "name": "python",
   "nbconvert_exporter": "python",
   "pygments_lexer": "ipython3",
   "version": "3.13.7"
  }
 },
 "nbformat": 4,
 "nbformat_minor": 5
}

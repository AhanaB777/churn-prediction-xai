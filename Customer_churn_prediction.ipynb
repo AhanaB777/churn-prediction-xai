{
 "cells": [
  {
   "cell_type": "markdown",
   "id": "073883ce-548f-470a-a1da-082ca7f618e3",
   "metadata": {},
   "source": [
    "# Customer Churn Prediction with Explainable AI "
   ]
  },
  {
   "cell_type": "markdown",
   "id": "7434a9a2-770d-4967-84c0-eea2d0c8c883",
   "metadata": {},
   "source": [
    "### Tech stack used: \n",
    "- Python libraries (numpy,pandas,matplotlib,seaborn)\n",
    "- Jupyter notebook\n",
    "- Kaggle SaaS Subscription and Churn Analysis datasets from RavenStack\n",
    "  "
   ]
  },
  {
   "cell_type": "markdown",
   "id": "aa946afd-aeac-4463-bccb-27a35ea03ab8",
   "metadata": {},
   "source": [
    "## Project Phases and Estimated Time Taken\n",
    "- Phase 1 : Problem Definition and Planning + Environment Setup (2-3 days)\n",
    "- Phase 2 : Data Collection and Organization (1 day)\n",
    "- Phase 3 : Exploratory Data Analysis (3-4 days)\n",
    "- Phase 4 : Feature Engineering (5-6 days)\n",
    "- Phase 5 : Model Building and Training (4-5 days)\n",
    "- Phase 6 : Model Explainability (4-6 days)\n",
    "- Phase 7 : Evaluation and Documentation (3-4 days)\n",
    "  \n",
    "  Total estimated time to build the project : 4 weeks or 1 month (approx.)"
   ]
  },
  {
   "cell_type": "code",
   "execution_count": null,
   "id": "a62d84b2-55ec-4a31-a0f1-985fe8c11996",
   "metadata": {},
   "outputs": [],
   "source": []
  }
 ],
 "metadata": {
  "kernelspec": {
   "display_name": "Python 3 (ipykernel)",
   "language": "python",
   "name": "python3"
  },
  "language_info": {
   "codemirror_mode": {
    "name": "ipython",
    "version": 3
   },
   "file_extension": ".py",
   "mimetype": "text/x-python",
   "name": "python",
   "nbconvert_exporter": "python",
   "pygments_lexer": "ipython3",
   "version": "3.13.7"
  }
 },
 "nbformat": 4,
 "nbformat_minor": 5
}
